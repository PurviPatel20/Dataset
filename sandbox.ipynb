{
  "cells": [
    {
      "cell_type": "markdown",
      "metadata": {
        "id": "view-in-github",
        "colab_type": "text"
      },
      "source": [
        "<a href=\"https://colab.research.google.com/github/PurviPatel20/Dataset/blob/main/sandbox.ipynb\" target=\"_parent\"><img src=\"https://colab.research.google.com/assets/colab-badge.svg\" alt=\"Open In Colab\"/></a>"
      ]
    },
    {
      "cell_type": "code",
      "execution_count": 76,
      "metadata": {
        "id": "0OfQdcaecoSJ"
      },
      "outputs": [],
      "source": [
        "!pip install -q py2neo"
      ]
    },
    {
      "cell_type": "code",
      "execution_count": 77,
      "metadata": {
        "id": "G6imAY2fdCpy"
      },
      "outputs": [],
      "source": [
        "from py2neo import Graph\n",
        "from py2neo import Node\n",
        "from py2neo import Relationship\n",
        "import pandas as pd"
      ]
    },
    {
      "cell_type": "code",
      "execution_count": 78,
      "metadata": {
        "id": "W-AnS2WZdPxy"
      },
      "outputs": [],
      "source": [
        "graph = Graph(\"bolt://44.203.75.161:7687\",\n",
        "              user=\"neo4j\",\n",
        "              password=\"hoops-formation-ditto\")"
      ]
    },
    {
      "cell_type": "code",
      "execution_count": 104,
      "metadata": {
        "colab": {
          "base_uri": "https://localhost:8080/"
        },
        "id": "zjsZBYlmha4k",
        "outputId": "ed75435d-0ad4-4562-b075-fd609b484854"
      },
      "outputs": [
        {
          "output_type": "stream",
          "name": "stdout",
          "text": [
            "3410\n"
          ]
        }
      ],
      "source": [
        "query1 = \"\"\"\n",
        "OPTIONAL MATCH (s:ns0__Ubhadi{rdfs__label:\"GJG 22\"}) RETURN s.ns0__hasPrice\n",
        "\"\"\"\n",
        "\n",
        "result1 = graph.run(query1)\n",
        "for d in result1:\n",
        "    print(d)"
      ]
    },
    {
      "cell_type": "code",
      "execution_count": 80,
      "metadata": {
        "colab": {
          "base_uri": "https://localhost:8080/"
        },
        "id": "N3hGqYsTiRSj",
        "outputId": "a7f1fcba-855e-456a-ed5f-f1c1fd7a3b02"
      },
      "outputs": [
        {
          "output_type": "stream",
          "name": "stdout",
          "text": [
            "'GJG 22'\t2013\t'118'\t3410\t51.6\t'1770'\n",
            "'GJG 31'\t2009\t'117'\tNone\t48.0\t'3483'\n",
            "'GJG 9'\t2009\t'103'\t3410\t49.0\t'1663'\n",
            "'TPG 41'\t2004\t'122'\tNone\t49.0\t'2088'\n",
            "'GG 8'\t2006\t'104-107'\tNone\t46.0\t'1776'\n",
            "'GG 7'\t2001\t'100'\tNone\t49\tNone\n",
            "'GG 6'\t1999\t'115-120'\tNone\t50.3\t'2.78'\n",
            "'GG 5'\t1996\t101\t2310\t49.2\t'1270'\n",
            "'TG 37A'\t2004\t'122'\t2800\tNone\tNone\n",
            "'GG 2'\tNone\t'100-105'\t2310\tNone\tNone\n",
            "'J 11'\tNone\t'110-115'\tNone\tNone\tNone\n",
            "'GG 20'\t1992\t'120'\t2310\t50.7\t'1960'\n"
          ]
        }
      ],
      "source": [
        "\n",
        "query2 = \"\"\"\n",
        "OPTIONAL MATCH (i:ns0__Ubhadi) WHERE i:ns0__Ubhadi RETURN i.rdfs__label As Seed_variety, i.ns0__yearRelease As year, i.ns0__daysMaturity As Days, i.ns0__hasPrice As Price, i.ns0__oilContent As Oil, i.ns0__podAndKernelYield As pod_and_kernel\n",
        "\"\"\"\n",
        "\n",
        "result2 = graph.run(query2)\n",
        "for d in result2:\n",
        "    print(d)"
      ]
    },
    {
      "cell_type": "code",
      "execution_count": 117,
      "metadata": {
        "colab": {
          "base_uri": "https://localhost:8080/"
        },
        "id": "B6i9u6knj4nP",
        "outputId": "9fb41d34-5a81-44d8-a420-36f1b1e8491e"
      },
      "outputs": [
        {
          "output_type": "stream",
          "name": "stdout",
          "text": [
            "2310\n"
          ]
        }
      ],
      "source": [
        "query3 = \"\"\"OPTIONAL MATCH (n:ns0__Ubhadi) WHERE n.rdfs__label = 'GG 5' RETURN n.ns0__hasPrice\"\"\"\n",
        "\n",
        "result3 = graph.run(query3)\n",
        "for d in result3:\n",
        "    print(d)"
      ]
    },
    {
      "cell_type": "code",
      "execution_count": 7,
      "metadata": {
        "colab": {
          "base_uri": "https://localhost:8080/"
        },
        "id": "kIZrIn6ajhOi",
        "outputId": "41785c5c-2d9a-4a4b-9167-4901cb99db03"
      },
      "outputs": [
        {
          "output_type": "stream",
          "name": "stdout",
          "text": [
            "\u001b[?25l     \u001b[90m━━━━━━━━━━━━━━━━━━━━━━━━━━━━━━━━━━━━━━━━\u001b[0m \u001b[32m0.0/203.0 kB\u001b[0m \u001b[31m?\u001b[0m eta \u001b[36m-:--:--\u001b[0m\r\u001b[2K     \u001b[91m━━━━━━━━━━━━━━━━━━━━━━━━━━━━━━━━━━━━━━\u001b[0m\u001b[90m╺\u001b[0m\u001b[90m━\u001b[0m \u001b[32m194.6/203.0 kB\u001b[0m \u001b[31m6.5 MB/s\u001b[0m eta \u001b[36m0:00:01\u001b[0m\r\u001b[2K     \u001b[90m━━━━━━━━━━━━━━━━━━━━━━━━━━━━━━━━━━━━━━━━\u001b[0m \u001b[32m203.0/203.0 kB\u001b[0m \u001b[31m5.2 MB/s\u001b[0m eta \u001b[36m0:00:00\u001b[0m\n",
            "\u001b[?25h  Installing build dependencies ... \u001b[?25l\u001b[?25hdone\n",
            "  Getting requirements to build wheel ... \u001b[?25l\u001b[?25hdone\n",
            "  Installing backend dependencies ... \u001b[?25l\u001b[?25hdone\n",
            "  Preparing metadata (pyproject.toml) ... \u001b[?25l\u001b[?25hdone\n",
            "  Building wheel for neo4j-driver (pyproject.toml) ... \u001b[?25l\u001b[?25hdone\n",
            "\u001b[2K     \u001b[90m━━━━━━━━━━━━━━━━━━━━━━━━━━━━━━━━━━━━━━━━\u001b[0m \u001b[32m17.1/17.1 MB\u001b[0m \u001b[31m55.3 MB/s\u001b[0m eta \u001b[36m0:00:00\u001b[0m\n",
            "\u001b[2K     \u001b[90m━━━━━━━━━━━━━━━━━━━━━━━━━━━━━━━━━━━━━━━━\u001b[0m \u001b[32m91.9/91.9 kB\u001b[0m \u001b[31m10.8 MB/s\u001b[0m eta \u001b[36m0:00:00\u001b[0m\n",
            "\u001b[?25h  Preparing metadata (setup.py) ... \u001b[?25l\u001b[?25hdone\n",
            "\u001b[2K     \u001b[90m━━━━━━━━━━━━━━━━━━━━━━━━━━━━━━━━━━━━━━━━\u001b[0m \u001b[32m313.6/313.6 kB\u001b[0m \u001b[31m30.1 MB/s\u001b[0m eta \u001b[36m0:00:00\u001b[0m\n",
            "\u001b[2K     \u001b[90m━━━━━━━━━━━━━━━━━━━━━━━━━━━━━━━━━━━━━━━━\u001b[0m \u001b[32m75.6/75.6 kB\u001b[0m \u001b[31m7.8 MB/s\u001b[0m eta \u001b[36m0:00:00\u001b[0m\n",
            "\u001b[2K     \u001b[90m━━━━━━━━━━━━━━━━━━━━━━━━━━━━━━━━━━━━━━━━\u001b[0m \u001b[32m144.8/144.8 kB\u001b[0m \u001b[31m15.6 MB/s\u001b[0m eta \u001b[36m0:00:00\u001b[0m\n",
            "\u001b[2K     \u001b[90m━━━━━━━━━━━━━━━━━━━━━━━━━━━━━━━━━━━━━━━━\u001b[0m \u001b[32m8.7/8.7 MB\u001b[0m \u001b[31m97.0 MB/s\u001b[0m eta \u001b[36m0:00:00\u001b[0m\n",
            "\u001b[2K     \u001b[90m━━━━━━━━━━━━━━━━━━━━━━━━━━━━━━━━━━━━━━━━\u001b[0m \u001b[32m60.8/60.8 kB\u001b[0m \u001b[31m5.9 MB/s\u001b[0m eta \u001b[36m0:00:00\u001b[0m\n",
            "\u001b[2K     \u001b[90m━━━━━━━━━━━━━━━━━━━━━━━━━━━━━━━━━━━━━━━━\u001b[0m \u001b[32m129.9/129.9 kB\u001b[0m \u001b[31m12.7 MB/s\u001b[0m eta \u001b[36m0:00:00\u001b[0m\n",
            "\u001b[2K     \u001b[90m━━━━━━━━━━━━━━━━━━━━━━━━━━━━━━━━━━━━━━━━\u001b[0m \u001b[32m77.9/77.9 kB\u001b[0m \u001b[31m8.8 MB/s\u001b[0m eta \u001b[36m0:00:00\u001b[0m\n",
            "\u001b[2K     \u001b[90m━━━━━━━━━━━━━━━━━━━━━━━━━━━━━━━━━━━━━━━━\u001b[0m \u001b[32m58.3/58.3 kB\u001b[0m \u001b[31m6.0 MB/s\u001b[0m eta \u001b[36m0:00:00\u001b[0m\n",
            "\u001b[2K     \u001b[90m━━━━━━━━━━━━━━━━━━━━━━━━━━━━━━━━━━━━━━━━\u001b[0m \u001b[32m71.9/71.9 kB\u001b[0m \u001b[31m7.9 MB/s\u001b[0m eta \u001b[36m0:00:00\u001b[0m\n",
            "\u001b[?25h  Building wheel for ffmpy (setup.py) ... \u001b[?25l\u001b[?25hdone\n"
          ]
        }
      ],
      "source": [
        "!pip install -q neo4j-driver\n",
        "!pip install -q gradio"
      ]
    },
    {
      "cell_type": "code",
      "execution_count": 91,
      "metadata": {
        "id": "FaHnk7atjz7C"
      },
      "outputs": [],
      "source": [
        "\n",
        "from neo4j import GraphDatabase\n",
        "import spacy\n",
        "import gradio as gr\n"
      ]
    },
    {
      "cell_type": "code",
      "execution_count": 118,
      "metadata": {
        "id": "DhSITV1JkAGB"
      },
      "outputs": [],
      "source": [
        "driver = GraphDatabase.driver(\"bolt://44.203.75.161:7687\",\n",
        "                              auth=(\"neo4j\",\n",
        "                                    \"hoops-formation-ditto\"))"
      ]
    },
    {
      "cell_type": "markdown",
      "source": [],
      "metadata": {
        "id": "DDwbGDRpW2Fq"
      }
    },
    {
      "cell_type": "code",
      "execution_count": 93,
      "metadata": {
        "id": "nu08lY9zkElS",
        "colab": {
          "base_uri": "https://localhost:8080/"
        },
        "outputId": "ac7f52c1-7da2-425b-acaa-ac8c7dc436e6"
      },
      "outputs": [
        {
          "output_type": "execute_result",
          "data": {
            "text/plain": [
              "['CARDINAL',\n",
              " 'DATE',\n",
              " 'EVENT',\n",
              " 'FAC',\n",
              " 'GPE',\n",
              " 'LANGUAGE',\n",
              " 'LAW',\n",
              " 'LOC',\n",
              " 'MONEY',\n",
              " 'NORP',\n",
              " 'ORDINAL',\n",
              " 'ORG',\n",
              " 'PERCENT',\n",
              " 'PERSON',\n",
              " 'PRODUCT',\n",
              " 'QUANTITY',\n",
              " 'TIME',\n",
              " 'WORK_OF_ART']"
            ]
          },
          "metadata": {},
          "execution_count": 93
        }
      ],
      "source": [
        "nlp = spacy.load(\"en_core_web_lg\")\n",
        "nlp.pipe_labels['ner']"
      ]
    },
    {
      "cell_type": "code",
      "execution_count": 119,
      "metadata": {
        "id": "5qfMFpnhkgR6"
      },
      "outputs": [],
      "source": [
        "\n",
        "def extract_entity(question, entity_type):\n",
        "    doc = nlp(question)\n",
        "    for ent in doc.ents:\n",
        "        if ent.label_ in entity_type:\n",
        "            return ent.text\n",
        "    return None\n",
        "\n",
        "# que = \"what is the price of GG 2?\"\n",
        "# doc = nlp(que)\n",
        "\n"
      ]
    },
    {
      "cell_type": "code",
      "source": [
        "def chatbot(input, history=[]):\n",
        "    output = get_answer(input)\n",
        "    history.append((input, output))\n",
        "    return history, history"
      ],
      "metadata": {
        "id": "T6EP-59NocW-"
      },
      "execution_count": 120,
      "outputs": []
    },
    {
      "cell_type": "code",
      "source": [
        "# def get_answer(question):\n",
        "#     doc = nlp(question)\n",
        "#     seed_variety = extract_entity(question, [\"PRODUCT\",\"ORG\"])\n",
        "\n",
        "#     if seed_variety is None:\n",
        "#         return \"Sorry, I don't understand what seed variety you're asking about.\"\n",
        "\n",
        "#     with driver.session() as session:\n",
        "#         if \"price\" in question or \"priced\" in question:\n",
        "#             result = session.run(f\"MATCH (n:ns0_Ubhadi) WHERE n.rdfs_label = '{seed_variety}' RETURN n.ns0_hasPrice\")\n",
        "#             if result.peek() is None:\n",
        "#                 return f\"No information found for the movie '{seed_variety}'\"\n",
        "#             for record in result:\n",
        "#                 return f\"The release date of '{seed_variety}' is: {record['n.ns0_hasPrice']}\"\n",
        "#         else:\n",
        "#             return \"Sorry, I don't understand what you're asking.\"\n",
        ""
      ],
      "metadata": {
        "id": "7wcHUvEeowtN"
      },
      "execution_count": 85,
      "outputs": []
    },
    {
      "cell_type": "code",
      "source": [
        "\n",
        "def get_answer(question):\n",
        "    doc = nlp(question)\n",
        "    seed = extract_entity(question, [\"PRODUCT\",\"ORG\"])\n",
        "    # director_name = extract_entity(question, [\"PERSON\"])\n",
        "    if seed is None:\n",
        "        return \"Sorry, I don't understand what seed variety you're asking about.\"\n",
        "\n",
        "    with driver.session() as session:\n",
        "        if \"price\" in question or \"priced\" in question:\n",
        "            result = session.run(f\"OPTIONAL MATCH (n:ns0__Ubhadi) WHERE n.rdfs__label = '{seed}' RETURN n.ns0__hasPrice\")\n",
        "            if result.peek() is None:\n",
        "                return f\"No information found for the Seed variety '{seed}'\"\n",
        "            for record in result:\n",
        "                return f\"The price '{seed}' is: {record['n.ns0__hasPrice']}\"\n",
        "        else:\n",
        "            return \"Sorry, I don't understand what you're asking.\""
      ],
      "metadata": {
        "id": "OzXQHrItL0u5"
      },
      "execution_count": 121,
      "outputs": []
    },
    {
      "cell_type": "code",
      "source": [
        "# nlp = spacy.load(\"en_core_web_lg\")\n",
        "# nlp\n",
        "# doc = nlp(\"What is the price of GG 7?\")\n",
        "# doc"
      ],
      "metadata": {
        "id": "BI_tr6GmVk6O"
      },
      "execution_count": 42,
      "outputs": []
    },
    {
      "cell_type": "code",
      "source": [
        "\n",
        "gr.Interface(fn = chatbot,\n",
        "             inputs = [\"text\",'state'],\n",
        "             outputs = [\"chatbot\",'state']).launch(debug = True)\n",
        ""
      ],
      "metadata": {
        "colab": {
          "base_uri": "https://localhost:8080/",
          "height": 680
        },
        "id": "v6ffIgtUV5jl",
        "outputId": "b8a1ec64-2e9a-4a64-baa9-9073e35f4457"
      },
      "execution_count": 122,
      "outputs": [
        {
          "output_type": "stream",
          "name": "stdout",
          "text": [
            "Setting queue=True in a Colab notebook requires sharing enabled. Setting `share=True` (you can turn this off by setting `share=False` in `launch()` explicitly).\n",
            "\n",
            "Colab notebook detected. This cell will run indefinitely so that you can see errors and logs. To turn off, set debug=False in launch().\n",
            "Running on public URL: https://e5685287fbad12837a.gradio.live\n",
            "\n",
            "This share link expires in 72 hours. For free permanent hosting and GPU upgrades, run `gradio deploy` from Terminal to deploy to Spaces (https://huggingface.co/spaces)\n"
          ]
        },
        {
          "output_type": "display_data",
          "data": {
            "text/plain": [
              "<IPython.core.display.HTML object>"
            ],
            "text/html": [
              "<div><iframe src=\"https://e5685287fbad12837a.gradio.live\" width=\"100%\" height=\"500\" allow=\"autoplay; camera; microphone; clipboard-read; clipboard-write;\" frameborder=\"0\" allowfullscreen></iframe></div>"
            ]
          },
          "metadata": {}
        },
        {
          "output_type": "stream",
          "name": "stdout",
          "text": [
            "Keyboard interruption in main thread... closing server.\n",
            "Killing tunnel 127.0.0.1:7860 <> https://e5685287fbad12837a.gradio.live\n"
          ]
        },
        {
          "output_type": "execute_result",
          "data": {
            "text/plain": []
          },
          "metadata": {},
          "execution_count": 122
        }
      ]
    },
    {
      "cell_type": "code",
      "source": [
        "# doc.ents."
      ],
      "metadata": {
        "id": "yLQaPtUnV8sP"
      },
      "execution_count": 43,
      "outputs": []
    },
    {
      "cell_type": "code",
      "execution_count": 33,
      "metadata": {
        "id": "0f48Y7oHhmv3"
      },
      "outputs": [],
      "source": []
    },
    {
      "cell_type": "code",
      "execution_count": 22,
      "metadata": {
        "id": "rxztEqWJk2OK"
      },
      "outputs": [],
      "source": [
        "\n"
      ]
    },
    {
      "cell_type": "code",
      "execution_count": 37,
      "metadata": {
        "id": "H5YJ98ZLIvDF"
      },
      "outputs": [],
      "source": [
        "\n",
        "\n"
      ]
    },
    {
      "cell_type": "code",
      "execution_count": 114,
      "metadata": {
        "id": "5Lx6qd3VKy_l"
      },
      "outputs": [],
      "source": []
    }
  ],
  "metadata": {
    "colab": {
      "provenance": [],
      "authorship_tag": "ABX9TyNWtBrttcItdK80kQ6xPzOh",
      "include_colab_link": true
    },
    "kernelspec": {
      "display_name": "Python 3",
      "name": "python3"
    },
    "language_info": {
      "name": "python"
    }
  },
  "nbformat": 4,
  "nbformat_minor": 0
}